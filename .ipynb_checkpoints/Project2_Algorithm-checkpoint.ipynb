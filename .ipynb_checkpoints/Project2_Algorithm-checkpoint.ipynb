{
 "cells": [
  {
   "cell_type": "code",
   "execution_count": 1,
   "metadata": {},
   "outputs": [],
   "source": [
    "## Import some packges\n",
    "import pandas as pd\n",
    "import numpy as np\n",
    "import networkx as nx\n",
    "import matplotlib.pyplot as plt"
   ]
  },
  {
   "cell_type": "markdown",
   "metadata": {},
   "source": [
    "# Define Classes and Functions"
   ]
  },
  {
   "cell_type": "code",
   "execution_count": 2,
   "metadata": {},
   "outputs": [],
   "source": [
    "## Define Vertex \n",
    "class Vertex:\n",
    "    def __init__(self, name):\n",
    "        self.name = name\n",
    "        self.pre_num = -1\n",
    "        self.post_num = -1\n",
    "    \n",
    "    def __hash__(self):\n",
    "        return hash( self.name )\n",
    "    \n",
    "    def __eq__(self, other): \n",
    "        if not isinstance(other, Vertex):\n",
    "            return NotImplemented\n",
    "        return self.name == other.name\n",
    "    \n",
    "    def __str__(self):\n",
    "        return f\"{self.name}\"\n",
    "\n",
    "    def get_name_and_pre_post_nums(self):\n",
    "        return f\"{self.name} ({self.pre_num},{self.post_num})\"\n",
    "\n",
    "    def set_pre_num(self, pre_num):\n",
    "        self.pre_num  = pre_num\n",
    "        \n",
    "    def set_post_num(self, post_num):\n",
    "        self.post_num  = post_num "
   ]
  },
  {
   "cell_type": "code",
   "execution_count": 3,
   "metadata": {},
   "outputs": [],
   "source": [
    "class Graph:\n",
    "    def __init__(self):\n",
    "        self.graph = dict()  # dictionary containing adjacency list\n",
    "        self.visited = dict() # dictionary to mark if a vertex was visited yet\n",
    "        self.clock = 0 # clock to track pre and post numbers\n",
    "\n",
    "    ## add a new edge to the graph\n",
    "    def add_edge(self, from_node_name, to_node_name):\n",
    "        ## create node v, u\n",
    "        if not isinstance(from_node_name, Vertex):\n",
    "            v = Vertex(from_node_name)\n",
    "        else:\n",
    "            v = from_node_name\n",
    "\n",
    "        if not isinstance(to_node_name, Vertex):\n",
    "            u = Vertex(to_node_name)\n",
    "        else:\n",
    "            u = to_node_name\n",
    "\n",
    "        ## add the new edge (v -> u) to g\n",
    "        if v not in self.graph:\n",
    "            self.graph[v] = list()\n",
    "\n",
    "        if u not in self.graph:\n",
    "            self.graph[u] = list()\n",
    "            self.graph[v].append(u)\n",
    "        else:\n",
    "            u = self.find_vertex(u)  # not create new obj, use the existing one\n",
    "            self.graph[v].append(u)\n",
    "\n",
    "    ## Get all edges in the graph\n",
    "    def get_all_edges(self):\n",
    "        all_edges = []\n",
    "        for v, node_list_from_v in self.graph.items():\n",
    "            for u in node_list_from_v:\n",
    "                all_edges.append((v, u))\n",
    "        return all_edges\n",
    "\n",
    "    ## helper function to find a vertex\n",
    "    def find_vertex(self, v):\n",
    "        for node in self.graph:\n",
    "            if v == node:\n",
    "                return node\n",
    "\n",
    "    ## plot the graph\n",
    "    def plot_graph(self, title=\"\", show_pre_post_num=True, fig_size=(12, 12)):\n",
    "        all_edges = self.get_all_edges()\n",
    "        if show_pre_post_num:\n",
    "            all_from_nodes = [edge[0].get_name_and_pre_post_nums() for edge in all_edges]\n",
    "            all_to_nodes = [edge[1].get_name_and_pre_post_nums() for edge in all_edges]\n",
    "        else:\n",
    "            all_from_nodes = [edge[0] for edge in all_edges]\n",
    "            all_to_nodes = [edge[1] for edge in all_edges]\n",
    "\n",
    "        df = pd.DataFrame({\"from\": all_from_nodes, \"to\": all_to_nodes})\n",
    "\n",
    "        plt.figure(figsize=fig_size)\n",
    "\n",
    "        G = nx.from_pandas_edgelist(df, 'from', 'to', create_using=nx.DiGraph())\n",
    "\n",
    "        nx.draw(G, pos=nx.nx_agraph.graphviz_layout(G), dpi=1000, font_weight='bold', linewidths=2.0, \\\n",
    "                font_size=10, with_labels=True, node_size=4000, alpha=0.6, arrows=True)\n",
    "        plt.title(title)\n",
    "\n",
    "        plt.show()\n",
    "\n",
    "    ## sort all the vertices according to their post numbers, in descending order\n",
    "    def sort_vertices_according_to_post_num(self):\n",
    "        sorted_V = sorted(self.graph.keys(), key=lambda x: x.post_num, reverse=True)\n",
    "        return sorted_V\n",
    "\n",
    "    ## set pre number for the current vertex\n",
    "    def pre_visit(self, v):\n",
    "        self.clock += 1\n",
    "        v.set_pre_num(self.clock)\n",
    "\n",
    "    ## set post number for the current vertex\n",
    "    def post_visit(self, v):\n",
    "        self.clock += 1\n",
    "        v.set_post_num(self.clock)\n",
    "\n",
    "    ## explore a vertex\n",
    "    def explore(self, v):\n",
    "        self.visited[v] = True  # mark the vertex as visited\n",
    "        self.pre_visit(v)\n",
    "        all_edges_from_v = self.graph[v]\n",
    "        for u in all_edges_from_v:\n",
    "            if not self.visited[u]:\n",
    "                self.explore(u)\n",
    "        self.post_visit(v)\n",
    "\n",
    "    ## Depth First Search on the graph\n",
    "    def DFS(self, sorted_V=None):\n",
    "        V = self.graph.keys()  # Get all vertices in the graph\n",
    "\n",
    "        self.clock = 0  # reset the clock\n",
    "        for v in V:\n",
    "            self.visited[v] = False\n",
    "\n",
    "        for v in V:\n",
    "            if not self.visited[v]:\n",
    "                self.explore(v)\n"
   ]
  },
  {
   "cell_type": "code",
   "execution_count": 4,
   "metadata": {},
   "outputs": [],
   "source": [
    "## Helper functions\n",
    "def clean_subject_name(subject):\n",
    "    subject = subject.split(\"-\")[0].strip().replace(\")\", \"\")\n",
    "    return subject\n",
    "\n",
    "def create_edges(subject, prerequisites):\n",
    "    edges = []\n",
    "    for pre_subject in prerequisites:\n",
    "        if pre_subject == \"N/A\":\n",
    "            return []\n",
    "        else:\n",
    "            edges.append([subject, pre_subject])\n",
    "    return edges\n",
    "\n",
    "def preprocess_data(data):\n",
    "    all_edges = list()\n",
    "    for i in range(len(data)):\n",
    "        subject = clean_subject_name(data[i].split(\"(\")[0])\n",
    "        prerequisites = list(map(clean_subject_name, data[i].split(\"(\")[1].replace(\"and\", \",\").split(\",\")))\n",
    "        edges = create_edges(subject, prerequisites) \n",
    "        all_edges.extend(edges)\n",
    "    return all_edges"
   ]
  },
  {
   "cell_type": "markdown",
   "metadata": {},
   "source": [
    "# Read input"
   ]
  },
  {
   "cell_type": "code",
   "execution_count": 5,
   "metadata": {},
   "outputs": [
    {
     "ename": "FileNotFoundError",
     "evalue": "[Errno 2] No such file or directory: 'input.txt'",
     "output_type": "error",
     "traceback": [
      "\u001b[0;31m---------------------------------------------------------------------------\u001b[0m",
      "\u001b[0;31mFileNotFoundError\u001b[0m                         Traceback (most recent call last)",
      "\u001b[0;32m<ipython-input-5-91320b6d1ca3>\u001b[0m in \u001b[0;36m<module>\u001b[0;34m\u001b[0m\n\u001b[0;32m----> 1\u001b[0;31m \u001b[0;32mwith\u001b[0m \u001b[0mopen\u001b[0m\u001b[0;34m(\u001b[0m\u001b[0;34m'input.txt'\u001b[0m\u001b[0;34m)\u001b[0m \u001b[0;32mas\u001b[0m \u001b[0mf\u001b[0m\u001b[0;34m:\u001b[0m\u001b[0;34m\u001b[0m\u001b[0;34m\u001b[0m\u001b[0m\n\u001b[0m\u001b[1;32m      2\u001b[0m     \u001b[0mdata\u001b[0m \u001b[0;34m=\u001b[0m \u001b[0mf\u001b[0m\u001b[0;34m.\u001b[0m\u001b[0mread\u001b[0m\u001b[0;34m(\u001b[0m\u001b[0;34m)\u001b[0m\u001b[0;34m.\u001b[0m\u001b[0msplit\u001b[0m\u001b[0;34m(\u001b[0m\u001b[0;34m\"\\n\"\u001b[0m\u001b[0;34m)\u001b[0m\u001b[0;34m\u001b[0m\u001b[0;34m\u001b[0m\u001b[0m\n\u001b[1;32m      3\u001b[0m \u001b[0mdata\u001b[0m\u001b[0;34m\u001b[0m\u001b[0;34m\u001b[0m\u001b[0m\n",
      "\u001b[0;31mFileNotFoundError\u001b[0m: [Errno 2] No such file or directory: 'input.txt'"
     ]
    }
   ],
   "source": [
    "with open('input.txt') as f:\n",
    "    data = f.read().split(\"\\n\")\n",
    "data"
   ]
  },
  {
   "cell_type": "code",
   "execution_count": null,
   "metadata": {},
   "outputs": [],
   "source": [
    "all_edges = preprocess_data(data)\n",
    "all_edges "
   ]
  },
  {
   "cell_type": "markdown",
   "metadata": {},
   "source": [
    "# Create a graph with the input"
   ]
  },
  {
   "cell_type": "code",
   "execution_count": null,
   "metadata": {},
   "outputs": [],
   "source": [
    "g = Graph() \n",
    "\n",
    "for edge in all_edges:\n",
    "    g.add_edge(edge[0], edge[1])\n",
    "    \n",
    "print(f\"The graph has {len(g.graph.keys())} vertices (subjects) and {len(all_edges)} edges\")"
   ]
  },
  {
   "cell_type": "code",
   "execution_count": null,
   "metadata": {},
   "outputs": [],
   "source": [
    "# Show the graph\n",
    "g.plot_graph(title = \"The graph created from the input\", show_pre_post_num = False)"
   ]
  },
  {
   "cell_type": "markdown",
   "metadata": {},
   "source": [
    "# Run DFS on the graph"
   ]
  },
  {
   "cell_type": "code",
   "execution_count": null,
   "metadata": {},
   "outputs": [],
   "source": [
    "g.DFS()"
   ]
  },
  {
   "cell_type": "code",
   "execution_count": null,
   "metadata": {},
   "outputs": [],
   "source": [
    "## Show the graph again, with pre and post numbers\n",
    "g.plot_graph(title = \"The graph with pre and post number\", show_pre_post_num=True)"
   ]
  },
  {
   "cell_type": "code",
   "execution_count": null,
   "metadata": {},
   "outputs": [],
   "source": [
    "# Get vertices in decreasing POST numbers\n",
    "topological_ordering = g.sort_vertices_according_to_post_num()\n",
    "for v in topological_ordering:\n",
    "    print(v.get_name_and_pre_post_nums())"
   ]
  }
 ],
 "metadata": {
  "kernelspec": {
   "display_name": "Python 3",
   "language": "python",
   "name": "python3"
  },
  "language_info": {
   "codemirror_mode": {
    "name": "ipython",
    "version": 3
   },
   "file_extension": ".py",
   "mimetype": "text/x-python",
   "name": "python",
   "nbconvert_exporter": "python",
   "pygments_lexer": "ipython3",
   "version": "3.7.6"
  }
 },
 "nbformat": 4,
 "nbformat_minor": 4
}
